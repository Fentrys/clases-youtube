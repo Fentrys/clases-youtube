{
 "cells": [
  {
   "cell_type": "markdown",
   "id": "ff5660ed-edde-4f60-a377-003d57eb394c",
   "metadata": {},
   "source": [
    "# titulo"
   ]
  },
  {
   "cell_type": "markdown",
   "id": "9fee08b4-b042-42f9-a92c-cd5b587eedf5",
   "metadata": {},
   "source": [
    "redaccion"
   ]
  },
  {
   "cell_type": "markdown",
   "id": "ba60f6c9-9d4d-480d-8745-d2d7f21bd724",
   "metadata": {},
   "source": [
    "## subtitulo"
   ]
  },
  {
   "cell_type": "code",
   "execution_count": 2,
   "id": "577c4d85-3361-4ac7-966a-0d97a8baad16",
   "metadata": {},
   "outputs": [
    {
     "name": "stdout",
     "output_type": "stream",
     "text": [
      "2\n"
     ]
    }
   ],
   "source": [
    "print(1+1)"
   ]
  },
  {
   "cell_type": "code",
   "execution_count": null,
   "id": "fa6a4156-5f79-4adc-9376-4a1197119787",
   "metadata": {},
   "outputs": [],
   "source": []
  },
  {
   "cell_type": "code",
   "execution_count": null,
   "id": "a9d75b68-14ca-49fa-9564-91fa3bd0dd2c",
   "metadata": {},
   "outputs": [],
   "source": []
  },
  {
   "cell_type": "code",
   "execution_count": null,
   "id": "65fd2155-2217-421f-bdc7-741787ca981f",
   "metadata": {},
   "outputs": [],
   "source": []
  },
  {
   "cell_type": "code",
   "execution_count": null,
   "id": "9f683fde-ed19-4e17-a6f6-828353b2a3e6",
   "metadata": {},
   "outputs": [],
   "source": []
  },
  {
   "cell_type": "code",
   "execution_count": null,
   "id": "e896f5bd-7ee1-48e0-a6c5-ecbe585869ce",
   "metadata": {},
   "outputs": [],
   "source": []
  },
  {
   "cell_type": "code",
   "execution_count": null,
   "id": "3942140b-cad9-4f6f-957c-72d10334c9ae",
   "metadata": {},
   "outputs": [],
   "source": []
  },
  {
   "cell_type": "markdown",
   "id": "45424ba1-db5c-470c-b1f6-111b71886c45",
   "metadata": {},
   "source": [
    "# titulo 2"
   ]
  },
  {
   "cell_type": "code",
   "execution_count": null,
   "id": "d695bc8a-dae9-4603-adb2-354e3e2300c4",
   "metadata": {},
   "outputs": [],
   "source": []
  }
 ],
 "metadata": {
  "kernelspec": {
   "display_name": "Python 3",
   "language": "python",
   "name": "python3"
  },
  "language_info": {
   "codemirror_mode": {
    "name": "ipython",
    "version": 3
   },
   "file_extension": ".py",
   "mimetype": "text/x-python",
   "name": "python",
   "nbconvert_exporter": "python",
   "pygments_lexer": "ipython3",
   "version": "3.7.10"
  },
  "toc-autonumbering": false,
  "toc-showcode": true
 },
 "nbformat": 4,
 "nbformat_minor": 5
}
