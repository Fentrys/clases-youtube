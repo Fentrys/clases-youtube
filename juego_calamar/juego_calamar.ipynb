{
 "cells": [
  {
   "cell_type": "code",
   "execution_count": 5,
   "id": "69beff83-d4df-4da8-b86c-988a4a8b4a69",
   "metadata": {},
   "outputs": [],
   "source": [
    "import numpy as np\n",
    "import matplotlib.pyplot as plt"
   ]
  },
  {
   "cell_type": "code",
   "execution_count": 6,
   "id": "b86ec056-dd4d-417e-84e5-889b81caa0e0",
   "metadata": {},
   "outputs": [],
   "source": [
    "def jugar_canicas(canicas_ali = 10, canicas_sang = 10):\n",
    "    canicas = dict({'ali':canicas_ali, 'sang':canicas_sang})\n",
    "    mano = dict({'ali':0, 'sang':0})\n",
    "    turno = np.random.choice(['ali','sang'])\n",
    "    jugamos = True\n",
    "    \n",
    "    while jugamos == True:\n",
    "        # se define jugador que no está en turno (el otro)\n",
    "        otro = np.array_str(np.where(turno == 'ali', 'sang', 'ali'))\n",
    "        \n",
    "        # jugadores escogen sus canicas y la esconden en mano\n",
    "        mano['ali'] = np.random.choice(np.arange(canicas['ali'])+1)\n",
    "        mano['sang'] = np.random.choice(np.arange(canicas['sang'])+1)\n",
    "        \n",
    "        # el jugador de turno apuesta par o impar (par 0, impar 1)\n",
    "        apuesta = np.random.choice(np.arange(2))\n",
    "\n",
    "        # jugadores muestran canicas\n",
    "        if (mano[otro] % 2) == apuesta:\n",
    "            # jugador de turno adivina\n",
    "            canicas[turno] += mano[turno]\n",
    "            canicas[otro] -= mano[turno]\n",
    "            if canicas[turno] >= 20:\n",
    "                return(turno)\n",
    "        else:\n",
    "            # jugador de turno falla\n",
    "            canicas[turno] -= mano[otro]\n",
    "            canicas[otro] += mano[otro]\n",
    "            if canicas[turno] <= 0:\n",
    "                return(otro)\n",
    "   \n",
    "        # cambio de turno\n",
    "        turno = np.array_str(np.where(turno == 'ali', 'sang', 'ali'))       "
   ]
  },
  {
   "cell_type": "code",
   "execution_count": 20,
   "id": "462bdd92-f184-460d-a5f1-cb501f377f6b",
   "metadata": {},
   "outputs": [
    {
     "data": {
      "text/plain": [
       "'sang'"
      ]
     },
     "execution_count": 20,
     "metadata": {},
     "output_type": "execute_result"
    }
   ],
   "source": [
    "jugar_canicas()"
   ]
  },
  {
   "cell_type": "code",
   "execution_count": 22,
   "id": "4d5ac32f-86f0-465d-8685-6cc8cf60c60a",
   "metadata": {},
   "outputs": [
    {
     "name": "stdout",
     "output_type": "stream",
     "text": [
      "0.5039\n"
     ]
    },
    {
     "data": {
      "image/png": "[encoded data removed]",
      "text/plain": [
       "<Figure size 432x288 with 1 Axes>"
      ]
     },
     "metadata": {
      "needs_background": "light"
     },
     "output_type": "display_data"
    }
   ],
   "source": [
    "# numero inicial de canicas\n",
    "canicas_ali = 10\n",
    "canicas_sang = 10\n",
    "\n",
    "# inicializando variables\n",
    "suma_ganados = 0\n",
    "vec_ganados = []\n",
    "n_juegos = 10000\n",
    "\n",
    "# ciclo for para calculo y simulaciones\n",
    "for i in np.arange(n_juegos):\n",
    "    resultado = jugar_canicas(canicas_ali, canicas_sang)\n",
    "    if resultado == 'ali':\n",
    "        suma_ganados += 1\n",
    "    vec_ganados.append(suma_ganados/(i+1))\n",
    "\n",
    "# imprimir probabilidad final estimada\n",
    "print(vec_ganados[-1])\n",
    "\n",
    "# graficando simulacion\n",
    "plt.plot(np.arange(n_juegos), vec_ganados)\n",
    "plt.hlines(y=0.5, xmin=0, xmax=n_juegos, color='r', linestyle='dotted')\n",
    "plt.show()"
   ]
  },
  {
   "cell_type": "code",
   "execution_count": 24,
   "id": "3f72b848-4da7-4267-86ab-81913ba22949",
   "metadata": {},
   "outputs": [
    {
     "name": "stdout",
     "output_type": "stream",
     "text": [
      "0.9698\n"
     ]
    },
    {
     "data": {
      "image/png": "[encoded data removed]",
      "text/plain": [
       "<Figure size 432x288 with 1 Axes>"
      ]
     },
     "metadata": {
      "needs_background": "light"
     },
     "output_type": "display_data"
    }
   ],
   "source": [
    "# En la seria Ali tenía 19 y Sang-Woo 1\n",
    "# ¿Qué hubiese pasado? ¿Que probabilidad de ganar tenía realmente Ali?\n",
    "canicas_ali = 19\n",
    "canicas_sang = 1\n",
    "\n",
    "# inicializando variables\n",
    "suma_ganados = 0\n",
    "vec_ganados = []\n",
    "n_juegos = 10000\n",
    "\n",
    "# ciclo for para calculo y simulaciones\n",
    "for i in np.arange(n_juegos):\n",
    "    resultado = jugar_canicas(canicas_ali, canicas_sang)\n",
    "    if resultado == 'ali':\n",
    "        suma_ganados += 1\n",
    "    vec_ganados.append(suma_ganados/(i+1))\n",
    "\n",
    "# imprimir probabilidad final estimada\n",
    "print(vec_ganados[-1])\n",
    "\n",
    "# graficando simulacion\n",
    "plt.plot(np.arange(n_juegos), vec_ganados)\n",
    "plt.hlines(y=0.5, xmin=0, xmax=n_juegos, color='r', linestyle='dotted')\n",
    "plt.show()"
   ]
  },
  {
   "cell_type": "code",
   "execution_count": null,
   "id": "b6e66b78-7c02-4cad-8da9-0df5e6b9a3e6",
   "metadata": {},
   "outputs": [],
   "source": []
  }
 ],
 "metadata": {
  "kernelspec": {
   "display_name": "Python 3",
   "language": "python",
   "name": "python3"
  },
  "language_info": {
   "codemirror_mode": {
    "name": "ipython",
    "version": 3
   },
   "file_extension": ".py",
   "mimetype": "text/x-python",
   "name": "python",
   "nbconvert_exporter": "python",
   "pygments_lexer": "ipython3",
   "version": "3.7.10"
  }
 },
 "nbformat": 4,
 "nbformat_minor": 5
}
